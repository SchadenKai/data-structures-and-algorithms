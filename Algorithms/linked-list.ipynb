{
 "cells": [
  {
   "cell_type": "code",
   "execution_count": 63,
   "metadata": {},
   "outputs": [
    {
     "name": "stdout",
     "output_type": "stream",
     "text": [
      "pushed 2 node\n",
      "pushed 1 node\n",
      "first node\n",
      "second node\n",
      "fourth node\n"
     ]
    }
   ],
   "source": [
    "class Node: \n",
    "    def __init__(self, data=None) -> None:\n",
    "        self.data = data\n",
    "        self.nextNode = None\n",
    "        \n",
    "class LinkedList:\n",
    "    def __init__(self) -> None:\n",
    "        self.headNode = None\n",
    "    def printList(self):\n",
    "        printNode = self.headNode\n",
    "        while printNode is not None:\n",
    "            print(printNode.data)\n",
    "            printNode = printNode.nextNode\n",
    "    def removeNode(self, target):\n",
    "        beforeNode = self.headNode\n",
    "        while beforeNode is not None: \n",
    "            tempNode = beforeNode.nextNode\n",
    "            if tempNode.data == target:\n",
    "                beforeNode.nextNode = tempNode.nextNode\n",
    "                return True\n",
    "            beforeNode = beforeNode.nextNode\n",
    "        return False \n",
    "    def pushNode(self, newNode):\n",
    "        tempNode = self.headNode\n",
    "        self.headNode = newNode\n",
    "        self.headNode.nextNode = tempNode\n",
    "    def appendNode(self, newNode):\n",
    "        indexNode = self.headNode\n",
    "        if indexNode == None:\n",
    "            self.headNode = newNode\n",
    "        while indexNode is not None:\n",
    "            if indexNode.nextNode == None: \n",
    "                indexNode.nextNode = newNode\n",
    "                return True\n",
    "            indexNode = indexNode.nextNode\n",
    "        return False\n",
    "\n",
    "\n",
    "l1 = LinkedList()\n",
    "\n",
    "l1.headNode = Node(\"first node\")\n",
    "n2 = Node(\"second node\")\n",
    "n3 = Node(\"third node\")\n",
    "\n",
    "l1.headNode.nextNode = n2\n",
    "n2.nextNode = n3\n",
    "\n",
    "l1.appendNode(Node(\"fourth node\"))\n",
    "l1.pushNode(Node(\"pushed 1 node\"))\n",
    "l1.pushNode(Node(\"pushed 2 node\"))\n",
    "l1.removeNode(\"third node\")\n",
    "l1.printList()"
   ]
  },
  {
   "cell_type": "code",
   "execution_count": 6,
   "metadata": {},
   "outputs": [
    {
     "name": "stdout",
     "output_type": "stream",
     "text": [
      "['first node', 'third node']\n"
     ]
    }
   ],
   "source": [
    "list = ['first node', 'second node', 'third node']\n",
    "list.remove('second node')\n",
    "print(list)"
   ]
  },
  {
   "cell_type": "code",
   "execution_count": 80,
   "metadata": {},
   "outputs": [
    {
     "ename": "TypeError",
     "evalue": "'int' object is not iterable",
     "output_type": "error",
     "traceback": [
      "\u001b[1;31m---------------------------------------------------------------------------\u001b[0m",
      "\u001b[1;31mTypeError\u001b[0m                                 Traceback (most recent call last)",
      "\u001b[1;32mc:\\Users\\kairu\\OneDrive\\Documents\\GitHub\\data-structures-and-algorithms\\Algorithms\\linked-list.ipynb Cell 3\u001b[0m line \u001b[0;36m1\n\u001b[0;32m     <a href='vscode-notebook-cell:/c%3A/Users/kairu/OneDrive/Documents/GitHub/data-structures-and-algorithms/Algorithms/linked-list.ipynb#W2sZmlsZQ%3D%3D?line=11'>12</a>\u001b[0m l3 \u001b[39m=\u001b[39m l1 \u001b[39m+\u001b[39m l2\n\u001b[0;32m     <a href='vscode-notebook-cell:/c%3A/Users/kairu/OneDrive/Documents/GitHub/data-structures-and-algorithms/Algorithms/linked-list.ipynb#W2sZmlsZQ%3D%3D?line=14'>15</a>\u001b[0m new_list \u001b[39m=\u001b[39m []\n\u001b[1;32m---> <a href='vscode-notebook-cell:/c%3A/Users/kairu/OneDrive/Documents/GitHub/data-structures-and-algorithms/Algorithms/linked-list.ipynb#W2sZmlsZQ%3D%3D?line=15'>16</a>\u001b[0m \u001b[39mfor\u001b[39;00m i \u001b[39min\u001b[39;00m l3:\n\u001b[0;32m     <a href='vscode-notebook-cell:/c%3A/Users/kairu/OneDrive/Documents/GitHub/data-structures-and-algorithms/Algorithms/linked-list.ipynb#W2sZmlsZQ%3D%3D?line=16'>17</a>\u001b[0m     new_list\u001b[39m.\u001b[39mappend(i)\n\u001b[0;32m     <a href='vscode-notebook-cell:/c%3A/Users/kairu/OneDrive/Documents/GitHub/data-structures-and-algorithms/Algorithms/linked-list.ipynb#W2sZmlsZQ%3D%3D?line=17'>18</a>\u001b[0m new_list \u001b[39m=\u001b[39m new_list\u001b[39m.\u001b[39mreverse()\n",
      "\u001b[1;31mTypeError\u001b[0m: 'int' object is not iterable"
     ]
    }
   ],
   "source": [
    "l1 = [2,4,3]\n",
    "l2 = [5,6,4]\n",
    "def convert_to_int(list):\n",
    "    tempList = str(list)\n",
    "    tempList = filter(str.isalnum, tempList)\n",
    "    newList = \"\".join(tempList)\n",
    "    return int(newList)\n",
    "    \n",
    "l1 = convert_to_int(l1)\n",
    "l2 = convert_to_int(l2)\n",
    "\n",
    "l3 = l1 + l2\n",
    "l3 = \n",
    "\n",
    "new_list = []\n",
    "for i in l3:\n",
    "    new_list.append(i)\n",
    "new_list = new_list.reverse()\n",
    "\n",
    "print(new_list)"
   ]
  }
 ],
 "metadata": {
  "kernelspec": {
   "display_name": "Python 3",
   "language": "python",
   "name": "python3"
  },
  "language_info": {
   "codemirror_mode": {
    "name": "ipython",
    "version": 3
   },
   "file_extension": ".py",
   "mimetype": "text/x-python",
   "name": "python",
   "nbconvert_exporter": "python",
   "pygments_lexer": "ipython3",
   "version": "3.10.7"
  },
  "orig_nbformat": 4
 },
 "nbformat": 4,
 "nbformat_minor": 2
}
