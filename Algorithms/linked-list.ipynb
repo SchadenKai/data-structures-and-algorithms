{
 "cells": [
  {
   "cell_type": "code",
   "execution_count": 63,
   "metadata": {},
   "outputs": [
    {
     "name": "stdout",
     "output_type": "stream",
     "text": [
      "pushed 2 node\n",
      "pushed 1 node\n",
      "first node\n",
      "second node\n",
      "fourth node\n"
     ]
    }
   ],
   "source": [
    "class Node: \n",
    "    def __init__(self, data=None) -> None:\n",
    "        self.data = data\n",
    "        self.nextNode = None\n",
    "        \n",
    "class LinkedList:\n",
    "    def __init__(self) -> None:\n",
    "        self.headNode = None\n",
    "    def printList(self):\n",
    "        printNode = self.headNode\n",
    "        while printNode is not None:\n",
    "            print(printNode.data)\n",
    "            printNode = printNode.nextNode\n",
    "    def removeNode(self, target):\n",
    "        beforeNode = self.headNode\n",
    "        while beforeNode is not None: \n",
    "            tempNode = beforeNode.nextNode\n",
    "            if tempNode.data == target:\n",
    "                beforeNode.nextNode = tempNode.nextNode\n",
    "                return True\n",
    "            beforeNode = beforeNode.nextNode\n",
    "        return False \n",
    "    def pushNode(self, newNode):\n",
    "        tempNode = self.headNode\n",
    "        self.headNode = newNode\n",
    "        self.headNode.nextNode = tempNode\n",
    "    def appendNode(self, newNode):\n",
    "        indexNode = self.headNode\n",
    "        if indexNode == None:\n",
    "            self.headNode = newNode\n",
    "        while indexNode is not None:\n",
    "            if indexNode.nextNode == None: \n",
    "                indexNode.nextNode = newNode\n",
    "                return True\n",
    "            indexNode = indexNode.nextNode\n",
    "        return False\n",
    "\n",
    "\n",
    "l1 = LinkedList()\n",
    "\n",
    "l1.headNode = Node(\"first node\")\n",
    "n2 = Node(\"second node\")\n",
    "n3 = Node(\"third node\")\n",
    "\n",
    "l1.headNode.nextNode = n2\n",
    "n2.nextNode = n3\n",
    "\n",
    "l1.appendNode(Node(\"fourth node\"))\n",
    "l1.pushNode(Node(\"pushed 1 node\"))\n",
    "l1.pushNode(Node(\"pushed 2 node\"))\n",
    "l1.removeNode(\"third node\")\n",
    "l1.printList()"
   ]
  },
  {
   "cell_type": "code",
   "execution_count": 6,
   "metadata": {},
   "outputs": [
    {
     "name": "stdout",
     "output_type": "stream",
     "text": [
      "['first node', 'third node']\n"
     ]
    }
   ],
   "source": [
    "list = ['first node', 'second node', 'third node']\n",
    "list.remove('second node')\n",
    "print(list)"
   ]
  },
  {
   "cell_type": "code",
   "execution_count": null,
   "metadata": {},
   "outputs": [],
   "source": []
  }
 ],
 "metadata": {
  "kernelspec": {
   "display_name": "Python 3",
   "language": "python",
   "name": "python3"
  },
  "language_info": {
   "codemirror_mode": {
    "name": "ipython",
    "version": 3
   },
   "file_extension": ".py",
   "mimetype": "text/x-python",
   "name": "python",
   "nbconvert_exporter": "python",
   "pygments_lexer": "ipython3",
   "version": "3.10.7"
  },
  "orig_nbformat": 4
 },
 "nbformat": 4,
 "nbformat_minor": 2
}
