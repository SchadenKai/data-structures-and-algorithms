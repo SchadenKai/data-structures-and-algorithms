{
 "cells": [
  {
   "cell_type": "code",
   "execution_count": 12,
   "metadata": {},
   "outputs": [
    {
     "data": {
      "image/png": "[encoded data removed]",
      "text/plain": [
       "<Figure size 640x480 with 1 Axes>"
      ]
     },
     "metadata": {},
     "output_type": "display_data"
    }
   ],
   "source": [
    "import matplotlib.pyplot as plt\n",
    "\n",
    "class Vertex:\n",
    "    def __init__ (self, x_coord, y_coord, name):\n",
    "        self.x_coord = x_coord\n",
    "        self.y_coord = y_coord\n",
    "        self.name = name\n",
    "        self.edges = []\n",
    "        self.estimates = float('inf')\n",
    "        self.visited = False\n",
    "        self.previous = None\n",
    "    def set_edges (self, next_vertex, weight):\n",
    "        edge = {\n",
    "            'next_vertex': next_vertex,\n",
    "            'weight': weight\n",
    "        }\n",
    "        self.edges.append(edge)\n",
    "    def set_estimates (self, estimates):\n",
    "        self.estimates = estimates\n",
    "    def set_visited (self, visited):\n",
    "        self.visited = visited\n",
    "\n",
    "def calculate_euclidean_distance (vertex1, vertex2):\n",
    "    return ((vertex2.x_coord - vertex1.x_coord)**2 + (vertex2.y_coord - vertex1.y_coord)**2)**0.5\n",
    "\n",
    "cache = {}\n",
    "\n",
    "a = Vertex(1, 5, 'a')\n",
    "b = Vertex(5, 5, 'b')\n",
    "c = Vertex(2, 7, 'c')\n",
    "d = Vertex(4, 7, 'd')\n",
    "e = Vertex(3, 5, 'e')\n",
    "f = Vertex(2, 3, 'f')\n",
    "g = Vertex(4, 3, 'g')\n",
    "\n",
    "x = [a.x_coord, b.x_coord, c.x_coord, d.x_coord, e.x_coord, f.x_coord, g.x_coord]\n",
    "y = [a.y_coord, b.y_coord, c.y_coord, d.y_coord, e.y_coord, f.y_coord, g.y_coord]\n",
    "labels = [a.name, b.name, c.name, d.name, e.name, f.name, g.name]\n",
    "plt.scatter(x, y)\n",
    "\n",
    "for i in range(len(x)):\n",
    "    plt.annotate(labels[i], (x[i], y[i]), textcoords=\"offset points\", xytext=(0,10), ha='center')\n",
    "    "
   ]
  },
  {
   "cell_type": "code",
   "execution_count": 16,
   "metadata": {},
   "outputs": [],
   "source": [
    "a.set_edges(c, 3)\n",
    "a.set_edges(f, 1)\n",
    "c.set_edges(f, 2)\n",
    "c.set_edges(e, 1)\n",
    "c.set_edges(d, 4)\n",
    "f.set_edges(e, 1)\n",
    "f.set_edges(g, 5)\n",
    "f.set_edges(c, 2)\n",
    "f.set_edges(b, 6)\n",
    "e.set_edges(b, 2)\n",
    "d.set_edges(b, 1)\n",
    "g.set_edges(g, 2)"
   ]
  },
  {
   "cell_type": "code",
   "execution_count": 14,
   "metadata": {},
   "outputs": [
    {
     "name": "stdout",
     "output_type": "stream",
     "text": [
      "['a', 'f', 'e', 'b']\n"
     ]
    }
   ],
   "source": [
    "def djikstra (start_vertex, end_vertex):\n",
    "    start_vertex.set_estimates(0)\n",
    "    start_vertex.set_visited(True)\n",
    "    queue = [start_vertex]\n",
    "    while len(queue) > 0:\n",
    "        current_vertex = queue.pop(0)\n",
    "        for edge in current_vertex.edges:\n",
    "            next_vertex = edge['next_vertex']\n",
    "            weight = edge['weight']\n",
    "            ## check if the vertext has been visited \n",
    "            if next_vertex.visited == False:\n",
    "                ## aim for the most minimal estimate at the same time constinuously adjusting its previous vertex pointer \n",
    "                if next_vertex.estimates > current_vertex.estimates + weight:\n",
    "                    next_vertex.set_estimates(current_vertex.estimates + weight)\n",
    "                    next_vertex.previous = current_vertex\n",
    "                ## this ensures that all vertex will be visited (in the worst case scenario)\n",
    "                ## Worst case scenario = if the length of nodes from each branches, which all connects to the vertex destination, is equal \n",
    "                ## ex.    A->B->C->D    A->F->G->D    A->H->I->D\n",
    "                queue.append(next_vertex)\n",
    "        current_vertex.set_visited(True)\n",
    "    path = []\n",
    "    current_vertex = end_vertex\n",
    "    while current_vertex != None:\n",
    "        path.append(current_vertex.name)\n",
    "        current_vertex = current_vertex.previous\n",
    "    path.reverse()\n",
    "    return path\n",
    "\n",
    "print(djikstra(a, b))"
   ]
  },
  {
   "cell_type": "code",
   "execution_count": 15,
   "metadata": {},
   "outputs": [
    {
     "ename": "SyntaxError",
     "evalue": "incomplete input (719816065.py, line 10)",
     "output_type": "error",
     "traceback": [
      "\u001b[1;36m  Cell \u001b[1;32mIn [15], line 10\u001b[1;36m\u001b[0m\n\u001b[1;33m    \u001b[0m\n\u001b[1;37m    ^\u001b[0m\n\u001b[1;31mSyntaxError\u001b[0m\u001b[1;31m:\u001b[0m incomplete input\n"
     ]
    }
   ],
   "source": []
  }
 ],
 "metadata": {
  "kernelspec": {
   "display_name": "Python 3",
   "language": "python",
   "name": "python3"
  },
  "language_info": {
   "codemirror_mode": {
    "name": "ipython",
    "version": 3
   },
   "file_extension": ".py",
   "mimetype": "text/x-python",
   "name": "python",
   "nbconvert_exporter": "python",
   "pygments_lexer": "ipython3",
   "version": "3.10.7"
  }
 },
 "nbformat": 4,
 "nbformat_minor": 2
}
